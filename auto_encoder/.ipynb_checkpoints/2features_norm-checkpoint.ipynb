{
 "cells": [
  {
   "cell_type": "markdown",
   "metadata": {},
   "source": [
    "## Extract auto-encoder features"
   ]
  },
  {
   "cell_type": "code",
   "execution_count": 1,
   "metadata": {},
   "outputs": [],
   "source": [
    "import numpy as np\n",
    "from model_AE import *\n",
    "\n",
    "np.warnings.filterwarnings('ignore', category=np.VisibleDeprecationWarning)\n",
    "init_random_seed(random_seed=42)"
   ]
  },
  {
   "cell_type": "code",
   "execution_count": 2,
   "metadata": {},
   "outputs": [],
   "source": [
    "project = \"BRCA\"\n",
    "\n",
    "path2features = \"../features_AE/\"\n",
    "#path2outputs = \"../features_AE/\"\n",
    "path2outputs = \"\""
   ]
  },
  {
   "cell_type": "code",
   "execution_count": 3,
   "metadata": {},
   "outputs": [],
   "source": [
    "features_list = np.load(f\"{path2features}{project}_features_AE.npy\", allow_pickle=True)"
   ]
  },
  {
   "cell_type": "code",
   "execution_count": 4,
   "metadata": {},
   "outputs": [
    {
     "name": "stdout",
     "output_type": "stream",
     "text": [
      "n_slides: 1106\n",
      "features2d.shape: (2538738, 512)\n"
     ]
    }
   ],
   "source": [
    "features = convert_features_list_to2d(features_list)"
   ]
  },
  {
   "cell_type": "code",
   "execution_count": 5,
   "metadata": {},
   "outputs": [
    {
     "name": "stdout",
     "output_type": "stream",
     "text": [
      "(512,) (512,)\n"
     ]
    }
   ],
   "source": [
    "mean = features.mean(axis=0)\n",
    "std = features.std(axis=0)\n",
    "\n",
    "print(mean.shape, std.shape)"
   ]
  },
  {
   "cell_type": "code",
   "execution_count": 6,
   "metadata": {},
   "outputs": [
    {
     "name": "stdout",
     "output_type": "stream",
     "text": [
      "len(features_norm): 1106\n"
     ]
    }
   ],
   "source": [
    "n_slides = len(features_list)\n",
    "slide_names = np.array([features_list[i][0] for i in range(n_slides)])\n",
    "\n",
    "features_norm = []\n",
    "for i in range(n_slides):\n",
    "    #print(\"i_slide:\", i)\n",
    "    x = features_list[i][1]    \n",
    "    \n",
    "    x_norm = (x - mean[np.newaxis,:])/std[np.newaxis,:]\n",
    "    \n",
    "    features_norm.append((slide_names[i], x_norm))  \n",
    "\n",
    "print(f\"len(features_norm): {len(features_norm)}\")"
   ]
  },
  {
   "cell_type": "code",
   "execution_count": 7,
   "metadata": {},
   "outputs": [],
   "source": [
    "#np.save(f\"{path2outputs}{project}_features_AE_norm.npy\",features_norm)"
   ]
  },
  {
   "cell_type": "code",
   "execution_count": 8,
   "metadata": {},
   "outputs": [],
   "source": [
    "np.savetxt(f\"{project}_features_AE_mean.txt\", mean)\n",
    "np.savetxt(f\"{project}_features_AE_std.txt\", mean)"
   ]
  }
 ],
 "metadata": {
  "kernelspec": {
   "display_name": "Python 3 (ipykernel)",
   "language": "python",
   "name": "python3"
  },
  "language_info": {
   "codemirror_mode": {
    "name": "ipython",
    "version": 3
   },
   "file_extension": ".py",
   "mimetype": "text/x-python",
   "name": "python",
   "nbconvert_exporter": "python",
   "pygments_lexer": "ipython3",
   "version": "3.9.7"
  }
 },
 "nbformat": 4,
 "nbformat_minor": 4
}
