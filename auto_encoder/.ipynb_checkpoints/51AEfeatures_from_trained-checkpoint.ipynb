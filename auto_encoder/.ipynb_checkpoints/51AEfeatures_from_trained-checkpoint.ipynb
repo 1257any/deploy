{
 "cells": [
  {
   "cell_type": "code",
   "execution_count": 1,
   "metadata": {},
   "outputs": [
    {
     "name": "stdout",
     "output_type": "stream",
     "text": [
      "device: cpu\n"
     ]
    }
   ],
   "source": [
    "import torch\n",
    "import time,sys\n",
    "import numpy as np\n",
    "from model_AE import *\n",
    "\n",
    "## check available device\n",
    "device = (torch.device('cuda') if torch.cuda.is_available() else torch.device('cpu'))\n",
    "print(\"device:\", device)\n",
    "\n",
    "np.warnings.filterwarnings('ignore', category=np.VisibleDeprecationWarning)"
   ]
  },
  {
   "cell_type": "code",
   "execution_count": 2,
   "metadata": {},
   "outputs": [],
   "source": [
    "project1 = \"test\"\n",
    "project2 = \"OV\"\n",
    "\n",
    "path2trainedmodel = \"\"\n",
    "#path2outputs = \"../features_AE/\"\n",
    "path2features = \"../features_2022.09.07/\"\n",
    "path2outputs = \"\"\n",
    "\n",
    "n_inputs = 2048\n",
    "n_hiddens = 512\n",
    "n_outputs = 2048"
   ]
  },
  {
   "cell_type": "code",
   "execution_count": 3,
   "metadata": {},
   "outputs": [
    {
     "name": "stdout",
     "output_type": "stream",
     "text": [
      "AutoEncoder(\n",
      "  (encoder): Sequential(\n",
      "    (0): Linear(in_features=2048, out_features=512, bias=True)\n",
      "    (1): ReLU()\n",
      "  )\n",
      "  (decoder): Sequential(\n",
      "    (0): Linear(in_features=512, out_features=2048, bias=True)\n",
      "    (1): ReLU()\n",
      "  )\n",
      ")\n"
     ]
    }
   ],
   "source": [
    "model = AutoEncoder(n_inputs=n_inputs, n_hiddens=n_hiddens, n_outputs=n_outputs)\n",
    "model.to(device)\n",
    "print(model)"
   ]
  },
  {
   "cell_type": "code",
   "execution_count": 4,
   "metadata": {},
   "outputs": [
    {
     "data": {
      "text/plain": [
       "<All keys matched successfully>"
      ]
     },
     "execution_count": 4,
     "metadata": {},
     "output_type": "execute_result"
    }
   ],
   "source": [
    "model.load_state_dict(torch.load(f\"{path2trainedmodel}{project1}_model_AE.pth\", map_location=device))\n",
    "#print(model)"
   ]
  },
  {
   "cell_type": "code",
   "execution_count": 5,
   "metadata": {},
   "outputs": [
    {
     "name": "stdout",
     "output_type": "stream",
     "text": [
      "len(features_list): 75\n"
     ]
    }
   ],
   "source": [
    "features_list = np.load(f\"{path2features}{project2}_features.npy\", allow_pickle=True)\n",
    "print(\"len(features_list):\", len(features_list))\n",
    "\n",
    "n_slides = len(features_list)\n",
    "slide_names = np.array([features_list[i][0] for i in range(n_slides)])"
   ]
  },
  {
   "cell_type": "code",
   "execution_count": 6,
   "metadata": {},
   "outputs": [],
   "source": [
    "model.eval()\n",
    "with torch.no_grad():\n",
    "    features = []\n",
    "\n",
    "    for i in range(n_slides):\n",
    "        x = features_list[i][1]             ## [n_tiles, 2048]\n",
    "        #print(\"x.shape:\", x.shape)\n",
    "\n",
    "        y = model.encoder(torch.from_numpy(x).float().to(device))\n",
    "        y = y.detach().cpu().numpy() ##[n_tiles, 512]\n",
    "        #print(\"y.shape-after convert to numpy:\", y.shape)\n",
    "\n",
    "        features.append((slide_names[i], y))"
   ]
  },
  {
   "cell_type": "code",
   "execution_count": 7,
   "metadata": {},
   "outputs": [
    {
     "name": "stdout",
     "output_type": "stream",
     "text": [
      "len(features): 75\n",
      "--- completed ---\n"
     ]
    }
   ],
   "source": [
    "## save to a file\n",
    "np.save(f\"{path2outputs}{project2}_features_AE_from_{project1}.npy\", features)\n",
    "\n",
    "print(\"len(features):\", len(features))\n",
    "\n",
    "print(\"--- completed ---\")"
   ]
  },
  {
   "cell_type": "code",
   "execution_count": null,
   "metadata": {},
   "outputs": [],
   "source": []
  }
 ],
 "metadata": {
  "kernelspec": {
   "display_name": "Python 3 (ipykernel)",
   "language": "python",
   "name": "python3"
  },
  "language_info": {
   "codemirror_mode": {
    "name": "ipython",
    "version": 3
   },
   "file_extension": ".py",
   "mimetype": "text/x-python",
   "name": "python",
   "nbconvert_exporter": "python",
   "pygments_lexer": "ipython3",
   "version": "3.9.7"
  }
 },
 "nbformat": 4,
 "nbformat_minor": 4
}
