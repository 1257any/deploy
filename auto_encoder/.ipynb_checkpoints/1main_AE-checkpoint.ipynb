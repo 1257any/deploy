{
 "cells": [
  {
   "cell_type": "markdown",
   "metadata": {},
   "source": [
    "## Extract auto-encoder features"
   ]
  },
  {
   "cell_type": "code",
   "execution_count": 1,
   "metadata": {},
   "outputs": [
    {
     "name": "stdout",
     "output_type": "stream",
     "text": [
      "device: cpu\n"
     ]
    }
   ],
   "source": [
    "import torch\n",
    "from torch.utils.data import DataLoader\n",
    "import time,sys\n",
    "import numpy as np\n",
    "from sklearn.model_selection import train_test_split\n",
    "from model_AE import *\n",
    "from torch.utils.data import Subset,Dataset\n",
    "\n",
    "## check available device\n",
    "device = (torch.device('cuda') if torch.cuda.is_available() else torch.device('cpu'))\n",
    "print(\"device:\", device)\n",
    "\n",
    "np.warnings.filterwarnings('ignore', category=np.VisibleDeprecationWarning)\n",
    "init_random_seed(random_seed=42)"
   ]
  },
  {
   "cell_type": "code",
   "execution_count": 2,
   "metadata": {},
   "outputs": [
    {
     "name": "stdout",
     "output_type": "stream",
     "text": [
      "project_key: test, projects: ['TCIA-PRAD', 'OV']\n"
     ]
    }
   ],
   "source": [
    "project_key = \"test\"\n",
    "\n",
    "projects = [\"TCIA-PRAD\", \"OV\"]\n",
    "\n",
    "#projects = project_dictionary(project)\n",
    "print(f\"project_key: {project_key}, projects: {projects}\")\n",
    "\n",
    "path2features = \"../features_2022.09.07/\"\n",
    "#path2outputs = \"../features_AE/\"\n",
    "path2outputs = \"\"\n",
    "\n",
    "##========================================\n",
    "## hyper parameters:\n",
    "max_epochs = 2\n",
    "\n",
    "n_inputs = 2048\n",
    "n_hiddens = 512\n",
    "n_outputs = 2048\n",
    "batch_size = 32\n",
    "lr = 0.0001\n",
    "\n",
    "save_each_project_to_file = False"
   ]
  },
  {
   "cell_type": "code",
   "execution_count": 3,
   "metadata": {},
   "outputs": [
    {
     "name": "stdout",
     "output_type": "stream",
     "text": [
      "ip: 0, project: TCIA-PRAD\n",
      "ip: 1, project: OV\n",
      "n_slides: 167\n",
      "train_idx.shape: (150,), test_idx.shape: (17,)\n",
      "combined len(train_set): 150, len(test_set): 17\n"
     ]
    }
   ],
   "source": [
    "for ip,project in enumerate(projects):\n",
    "    print(f\"ip: {ip}, project: {project}\")\n",
    "    \n",
    "    ## load data\n",
    "    features1 = np.load(f\"{path2features}{project}_features.npy\", allow_pickle=True)\n",
    "    \n",
    "    if ip == 0:\n",
    "        features = features1\n",
    "    else:\n",
    "        features = np.concatenate((features, features1))\n",
    "\n",
    "##-------------\n",
    "n_slides = len(features)\n",
    "print(f\"n_slides: {n_slides}\")\n",
    "\n",
    "train_idx, test_idx = train_test_split(np.arange(n_slides), test_size=0.1, shuffle=True)\n",
    "print(f\"train_idx.shape: {train_idx.shape}, test_idx.shape: {test_idx.shape}\")\n",
    "\n",
    "dataset = SlideDataset(features)\n",
    "train_set = Subset(dataset, train_idx)\n",
    "test_set = Subset(dataset, test_idx)\n",
    "\n",
    "print(f\"combined len(train_set): {len(train_set)}, len(test_set): {len(test_set)}\")"
   ]
  },
  {
   "cell_type": "code",
   "execution_count": 4,
   "metadata": {},
   "outputs": [
    {
     "name": "stdout",
     "output_type": "stream",
     "text": [
      "AutoEncoder(\n",
      "  (encoder): Sequential(\n",
      "    (0): Linear(in_features=2048, out_features=512, bias=True)\n",
      "    (1): ReLU()\n",
      "  )\n",
      "  (decoder): Sequential(\n",
      "    (0): Linear(in_features=512, out_features=2048, bias=True)\n",
      "    (1): ReLU()\n",
      "  )\n",
      ")\n",
      " \n",
      " ----- fit ----- \n",
      "epoch: 0/2, time: 34s,             train_loss: 0.9502, test_loss: 0.9053\n",
      "epoch: 1/2, time: 69s,             train_loss: 0.8718, test_loss: 0.8117\n"
     ]
    }
   ],
   "source": [
    "model = AutoEncoder(n_inputs, n_hiddens, n_outputs)\n",
    "model.to(device)\n",
    "print(model)\n",
    "\n",
    "optimizer = torch.optim.Adam(model.parameters(), lr=lr)\n",
    "\n",
    "model,train_loss,test_loss = fit(model, optimizer, train_set, test_set, max_epochs, batch_size, device)"
   ]
  },
  {
   "cell_type": "code",
   "execution_count": 5,
   "metadata": {},
   "outputs": [
    {
     "name": "stdout",
     "output_type": "stream",
     "text": [
      " \n",
      "ip: 0, project: TCIA-PRAD\n",
      "--- compress data, with the same order ---\n",
      "len(features_list): 92\n",
      "len(features_AE): 92\n",
      "ip: 1, project: OV\n",
      "--- compress data, with the same order ---\n",
      "len(features_list): 75\n",
      "len(features_AE): 75\n",
      "len(features_AE): 167\n",
      "--- completed --- AutoEncoder\n"
     ]
    }
   ],
   "source": [
    "## Compress entire data\n",
    "print(\" \")\n",
    "for ip,project in enumerate(projects):\n",
    "    print(f\"ip: {ip}, project: {project}\")\n",
    "    \n",
    "    features_AE1 = features_compression(model,path2features,project,device)\n",
    "    \n",
    "    if save_each_project_to_file:\n",
    "        np.save(f\"{path2outputs}{project}_features_AE.npy\", features_AE)\n",
    "\n",
    "    if ip == 0:\n",
    "        features_AE = features_AE1\n",
    "    else:\n",
    "        features_AE = np.concatenate((features_AE, features_AE1))\n",
    "\n",
    "if len(projects) > 1:\n",
    "    np.save(\"{path2outputs}{project_key}_features_AE.npy\",features_AE)\n",
    "    print(\"len(features_AE):\", len(features_AE))\n",
    "\n",
    "print(\"--- completed --- AutoEncoder\")"
   ]
  },
  {
   "cell_type": "code",
   "execution_count": 6,
   "metadata": {},
   "outputs": [
    {
     "name": "stdout",
     "output_type": "stream",
     "text": [
      " \n",
      " --- analyze result --- \n",
      "n_slides: 167\n",
      "features2d.shape: (334462, 2048)\n",
      "n_slides: 167\n",
      "features2d.shape: (334462, 512)\n"
     ]
    },
    {
     "data": {
      "image/png": "[encoded data removed]",
      "text/plain": [
       "<Figure size 864x432 with 6 Axes>"
      ]
     },
     "metadata": {
      "needs_background": "light"
     },
     "output_type": "display_data"
    }
   ],
   "source": [
    "print(\" \")\n",
    "print(\" --- analyze result --- \")\n",
    "\n",
    "analyze_result(path2outputs,project_key,model,train_loss,test_loss,features,features_AE)"
   ]
  },
  {
   "cell_type": "code",
   "execution_count": null,
   "metadata": {},
   "outputs": [],
   "source": []
  },
  {
   "cell_type": "code",
   "execution_count": null,
   "metadata": {},
   "outputs": [],
   "source": []
  }
 ],
 "metadata": {
  "kernelspec": {
   "display_name": "Python 3 (ipykernel)",
   "language": "python",
   "name": "python3"
  },
  "language_info": {
   "codemirror_mode": {
    "name": "ipython",
    "version": 3
   },
   "file_extension": ".py",
   "mimetype": "text/x-python",
   "name": "python",
   "nbconvert_exporter": "python",
   "pygments_lexer": "ipython3",
   "version": "3.9.7"
  }
 },
 "nbformat": 4,
 "nbformat_minor": 4
}
