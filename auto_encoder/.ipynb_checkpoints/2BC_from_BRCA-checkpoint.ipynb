{
 "cells": [
  {
   "cell_type": "markdown",
   "metadata": {},
   "source": [
    "## Extract auto-encoder features"
   ]
  },
  {
   "cell_type": "code",
   "execution_count": 1,
   "metadata": {},
   "outputs": [
    {
     "name": "stdout",
     "output_type": "stream",
     "text": [
      "device: cpu\n"
     ]
    }
   ],
   "source": [
    "import torch\n",
    "from torch.utils.data import DataLoader\n",
    "import time,sys\n",
    "import numpy as np\n",
    "from sklearn.model_selection import train_test_split\n",
    "from pretrained_features import *\n",
    "from model_AE import *\n",
    "\n",
    "## check available device\n",
    "device = (torch.device('cuda') if torch.cuda.is_available() else torch.device('cpu'))\n",
    "print(\"device:\", device)\n",
    "\n",
    "np.warnings.filterwarnings('ignore', category=np.VisibleDeprecationWarning)\n",
    "init_random_seed(random_seed=42)\n",
    "\n",
    "start_time_total = time.time()"
   ]
  },
  {
   "cell_type": "code",
   "execution_count": 4,
   "metadata": {},
   "outputs": [],
   "source": [
    "project_dict = {\"Breast\": [\"BRCA\"], \n",
    "                \"Lung\": [\"LUAD\", \"LUSC\"], \n",
    "                \"Kidney\": [\"KIRC\", \"KIRP\", \"KICH\"],\n",
    "                \"UCEC\": [\"UCEC\"],\n",
    "                \"Brain\": [\"LGG\", \"GBM\"],\n",
    "                \"Gastric\": [\"STAD\", \"ESCA\"],\n",
    "                \"Colorectal\": [\"COAD\", \"READ\"],\n",
    "                \"Skin\": [\"SKCM\"],\n",
    "                \"BC\": [\"BC\"]}\n",
    "#project_keys = list(project_dict.keys())\n",
    "#print(project_keys)\n",
    "\n",
    "project_key = \"BC\"\n",
    "projects = project_dict[project_key]"
   ]
  },
  {
   "cell_type": "code",
   "execution_count": 5,
   "metadata": {},
   "outputs": [
    {
     "name": "stdout",
     "output_type": "stream",
     "text": [
      "['BC']\n"
     ]
    }
   ],
   "source": [
    "print(projects)"
   ]
  },
  {
   "cell_type": "code",
   "execution_count": 6,
   "metadata": {},
   "outputs": [],
   "source": [
    "path2inputs = \"../BC_data/\"\n",
    "path2features = \"../features/\"\n",
    "path2outputs = \"\"\n",
    "\n",
    "#path2inputs = \"/scratch/dl76/dh6861/\"\n",
    "#path2features = \"/scratch/dl76/dh6861/features/\"\n",
    "#path2outputs = \"/scratch/dl76/dh6861/features/\"\n",
    "\n",
    "load_from_images = False\n",
    "\n",
    "##========================================\n",
    "max_epochs = 5\n",
    "\n",
    "n_inputs = 2048\n",
    "n_hiddens = 512\n",
    "n_outputs = 2048\n",
    "\n",
    "n_tiles_max = 100\n",
    "batch_size = 32\n",
    "lr = 0.0001"
   ]
  },
  {
   "cell_type": "code",
   "execution_count": 7,
   "metadata": {},
   "outputs": [
    {
     "name": "stdout",
     "output_type": "stream",
     "text": [
      " \n",
      "i: 0 BC\n",
      "len(features_list): 160\n",
      " ----- convert_features_list_to3d ----- \n",
      "features.shape: (160, 100, 2048)\n",
      "features.shape: (160, 2048, 100)\n",
      "combine train_set.shape, test_set.shape: (128, 2048, 100) (32, 2048, 100)\n"
     ]
    }
   ],
   "source": [
    "for i,project in enumerate(projects):\n",
    "    print(\" \")\n",
    "    print(\"i:\", i, project)\n",
    "\n",
    "    ### load feature_list\n",
    "    if load_from_images:\n",
    "        ## load from .png file:\n",
    "        features_list = pretrained_features(path2inputs,project)\n",
    "        np.save(\"%s%s_features.npy\"%(path2outputs,project), features_list)\n",
    "        print(\"len(features_list):\", len(features_list))\n",
    "        print(\"--- completed ---  extract_pretrained_features\")\n",
    "\n",
    "    else:\n",
    "        ## load from save pretrained features file\n",
    "        features_list = np.load(\"%s%s_features.npy\"%(path2features, project), allow_pickle=True)\n",
    "\n",
    "    print(\"len(features_list):\", len(features_list))\n",
    "    \n",
    "    ## convert to feature3d[n_slides, 2048, n_tiles_max]:\n",
    "    features = convert_features_list_to3d(features_list,n_tiles_max)\n",
    "\n",
    "    train_set1, test_set1 = train_test_split(features, test_size=0.2, shuffle=True)\n",
    "    \n",
    "    if i == 0:\n",
    "        train_set, test_set = train_set1, test_set1\n",
    "    else:\n",
    "        train_set = np.vstack((train_set, train_set1))\n",
    "        test_set = np.vstack((test_set, test_set1))\n",
    "        \n",
    "print(\"combine train_set.shape, test_set.shape:\", train_set.shape, test_set.shape)"
   ]
  },
  {
   "cell_type": "code",
   "execution_count": 8,
   "metadata": {},
   "outputs": [],
   "source": [
    "train_loader = DataLoader(train_set, batch_size=batch_size, shuffle=True, num_workers=0)\n",
    "test_loader = DataLoader(test_set, batch_size=batch_size, shuffle=False, num_workers=0)"
   ]
  },
  {
   "cell_type": "code",
   "execution_count": 9,
   "metadata": {},
   "outputs": [
    {
     "name": "stdout",
     "output_type": "stream",
     "text": [
      "AutoEncoder(\n",
      "  (encoder): Sequential(\n",
      "    (0): Conv1d(2048, 512, kernel_size=(1,), stride=(1,))\n",
      "    (1): ReLU()\n",
      "  )\n",
      "  (decoder): Sequential(\n",
      "    (0): Conv1d(512, 2048, kernel_size=(1,), stride=(1,))\n",
      "    (1): ReLU()\n",
      "  )\n",
      ")\n"
     ]
    }
   ],
   "source": [
    "model = AutoEncoder(n_inputs, n_hiddens, n_outputs)\n",
    "model.to(device)\n",
    "print(model)\n",
    "\n",
    "optimizer = torch.optim.Adam(model.parameters(), lr=lr)"
   ]
  },
  {
   "cell_type": "code",
   "execution_count": 10,
   "metadata": {},
   "outputs": [
    {
     "name": "stdout",
     "output_type": "stream",
     "text": [
      " \n",
      " ----- fit ----- \n"
     ]
    },
    {
     "name": "stderr",
     "output_type": "stream",
     "text": [
      "100%|█████████████████████████████████████████████████████████████████████████████████████| 4/4 [00:00<00:00,  5.49it/s]\n"
     ]
    },
    {
     "name": "stdout",
     "output_type": "stream",
     "text": [
      "Epoch 1/5 - 0.75s\n",
      "0 0.7565448 0.7522529\n"
     ]
    },
    {
     "name": "stderr",
     "output_type": "stream",
     "text": [
      "100%|█████████████████████████████████████████████████████████████████████████████████████| 4/4 [00:00<00:00,  6.27it/s]\n"
     ]
    },
    {
     "name": "stdout",
     "output_type": "stream",
     "text": [
      "Epoch 2/5 - 1.50s\n",
      "1 0.7100462 0.6972179\n"
     ]
    },
    {
     "name": "stderr",
     "output_type": "stream",
     "text": [
      "100%|█████████████████████████████████████████████████████████████████████████████████████| 4/4 [00:00<00:00,  6.31it/s]\n"
     ]
    },
    {
     "name": "stdout",
     "output_type": "stream",
     "text": [
      "Epoch 3/5 - 2.25s\n",
      "2 0.6528986 0.63287854\n"
     ]
    },
    {
     "name": "stderr",
     "output_type": "stream",
     "text": [
      "100%|█████████████████████████████████████████████████████████████████████████████████████| 4/4 [00:00<00:00,  6.68it/s]\n"
     ]
    },
    {
     "name": "stdout",
     "output_type": "stream",
     "text": [
      "Epoch 4/5 - 2.96s\n",
      "3 0.588822 0.5658763\n"
     ]
    },
    {
     "name": "stderr",
     "output_type": "stream",
     "text": [
      "100%|█████████████████████████████████████████████████████████████████████████████████████| 4/4 [00:00<00:00,  6.87it/s]\n"
     ]
    },
    {
     "name": "stdout",
     "output_type": "stream",
     "text": [
      "Epoch 5/5 - 3.65s\n",
      "4 0.5232312 0.50194186\n"
     ]
    }
   ],
   "source": [
    "## -------------------------------\n",
    "model,train_loss,train_labels,train_preds,test_loss, test_labels, test_preds = \\\n",
    "fit(model, optimizer, train_loader, test_loader, max_epochs, device)"
   ]
  },
  {
   "cell_type": "code",
   "execution_count": 11,
   "metadata": {},
   "outputs": [
    {
     "name": "stdout",
     "output_type": "stream",
     "text": [
      " \n",
      " --- analyze result --- \n",
      "bins: [ 0.          0.95188923  1.90377846  2.85566769  3.80755692  4.75944614\n",
      "  5.71133537  6.6632246   7.61511383  8.56700306  9.51889229 10.47078152\n",
      " 11.42267075 12.37455997 13.3264492  14.27833843 15.23022766 16.18211689\n",
      " 17.13400612 18.08589535 19.03778458]\n"
     ]
    },
    {
     "data": {
      "image/png": "[encoded data removed]",
      "text/plain": [
       "<Figure size 864x216 with 3 Axes>"
      ]
     },
     "metadata": {
      "needs_background": "light"
     },
     "output_type": "display_data"
    }
   ],
   "source": [
    "print(\" \")\n",
    "print(\" --- analyze result --- \")\n",
    "analyze_result(path2outputs, project, model, train_loss, train_labels, train_preds, test_loss, test_labels, test_preds)"
   ]
  },
  {
   "cell_type": "code",
   "execution_count": 12,
   "metadata": {},
   "outputs": [
    {
     "name": "stdout",
     "output_type": "stream",
     "text": [
      " \n",
      "i: 0\n",
      "project: BC\n",
      "--- compress data, with the same order ---\n",
      "len(features_list): 160\n",
      "len(features): 160\n",
      "--- completed --- AutoEncoder\n"
     ]
    }
   ],
   "source": [
    "## Compress entire data\n",
    "print(\" \")\n",
    "for i,project in enumerate(projects):\n",
    "    print(\"i:\", i)\n",
    "    print(\"project:\", project)\n",
    "    \n",
    "    compress_data(model,path2features,path2outputs,project,device)\n",
    "\n",
    "print(\"--- completed --- AutoEncoder\")"
   ]
  },
  {
   "cell_type": "code",
   "execution_count": null,
   "metadata": {},
   "outputs": [],
   "source": []
  }
 ],
 "metadata": {
  "kernelspec": {
   "display_name": "Python 3 (ipykernel)",
   "language": "python",
   "name": "python3"
  },
  "language_info": {
   "codemirror_mode": {
    "name": "ipython",
    "version": 3
   },
   "file_extension": ".py",
   "mimetype": "text/x-python",
   "name": "python",
   "nbconvert_exporter": "python",
   "pygments_lexer": "ipython3",
   "version": "3.7.4"
  }
 },
 "nbformat": 4,
 "nbformat_minor": 4
}
